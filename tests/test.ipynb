{
 "cells": [
  {
   "cell_type": "code",
   "execution_count": 2,
   "id": "b6bc4630-268b-4a92-994e-fea91792ea0e",
   "metadata": {
    "tags": []
   },
   "outputs": [
    {
     "name": "stdout",
     "output_type": "stream",
     "text": [
      "The autoreload extension is already loaded. To reload it, use:\n",
      "  %reload_ext autoreload\n"
     ]
    }
   ],
   "source": [
    "%load_ext autoreload\n",
    "%autoreload 2"
   ]
  },
  {
   "cell_type": "code",
   "execution_count": 4,
   "id": "c21d338f-52b8-4c95-bc74-c919ef1bf51a",
   "metadata": {
    "tags": []
   },
   "outputs": [],
   "source": [
    "import queue\n",
    "\n",
    "\n",
    "from backtester.data import HistoricCSVDataHandler"
   ]
  },
  {
   "cell_type": "code",
   "execution_count": 17,
   "id": "77c5e782-841a-4a12-8de0-63951666049b",
   "metadata": {},
   "outputs": [],
   "source": [
    "events = queue.Queue()\n",
    "test_data_handler = HistoricCSVDataHandler(events, \"/notebooks/Event-driven-backtester/data\", [\"BTC-USD\"])"
   ]
  },
  {
   "cell_type": "code",
   "execution_count": 18,
   "id": "5efb5573-bd6e-4fac-83a6-8c0efe9fdde6",
   "metadata": {
    "tags": []
   },
   "outputs": [],
   "source": [
    "gen = test_data_handler._get_new_bar(\"BTC-USD\")"
   ]
  }
 ],
 "metadata": {
  "kernelspec": {
   "display_name": "Python 3.9",
   "language": "python",
   "name": "py39"
  },
  "language_info": {
   "codemirror_mode": {
    "name": "ipython",
    "version": 3
   },
   "file_extension": ".py",
   "mimetype": "text/x-python",
   "name": "python",
   "nbconvert_exporter": "python",
   "pygments_lexer": "ipython3",
   "version": "3.9.18"
  }
 },
 "nbformat": 4,
 "nbformat_minor": 5
}

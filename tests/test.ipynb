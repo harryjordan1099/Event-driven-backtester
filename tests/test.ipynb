{
 "cells": [
  {
   "cell_type": "code",
   "execution_count": 1,
   "id": "b6bc4630-268b-4a92-994e-fea91792ea0e",
   "metadata": {
    "tags": []
   },
   "outputs": [],
   "source": [
    "%load_ext autoreload\n",
    "%autoreload 2"
   ]
  },
  {
   "cell_type": "code",
   "execution_count": 2,
   "id": "c21d338f-52b8-4c95-bc74-c919ef1bf51a",
   "metadata": {
    "tags": []
   },
   "outputs": [],
   "source": [
    "import queue\n",
    "\n",
    "\n",
    "from backtester.data import HistoricCSVDataHandler"
   ]
  },
  {
   "cell_type": "code",
   "execution_count": 3,
   "id": "77c5e782-841a-4a12-8de0-63951666049b",
   "metadata": {
    "tags": []
   },
   "outputs": [],
   "source": [
    "events = queue.Queue()\n",
    "test_data_handler = HistoricCSVDataHandler(events, \"/notebooks/Event-driven-backtester/data\", [\"BTC-USD\"])"
   ]
  },
  {
   "cell_type": "code",
   "execution_count": 17,
   "id": "5efb5573-bd6e-4fac-83a6-8c0efe9fdde6",
   "metadata": {
    "tags": []
   },
   "outputs": [
    {
     "data": {
      "text/plain": [
       "<generator object HistoricCSVDataHandler._get_new_bar at 0x7ff8caef5890>"
      ]
     },
     "execution_count": 17,
     "metadata": {},
     "output_type": "execute_result"
    }
   ],
   "source": [
    "test_data_handler._get_new_bar(\"BTC-USD\")"
   ]
  },
  {
   "cell_type": "code",
   "execution_count": 19,
   "id": "fa4986ec-bdf7-4224-9b89-115b63be0899",
   "metadata": {
    "tags": []
   },
   "outputs": [
    {
     "data": {
      "text/plain": [
       "[]"
      ]
     },
     "execution_count": 19,
     "metadata": {},
     "output_type": "execute_result"
    }
   ],
   "source": [
    "test_data_handler.get_latest_bars(\"BTC-USD\")"
   ]
  },
  {
   "cell_type": "code",
   "execution_count": 21,
   "id": "5a6f5199-db96-429e-8fb6-9945b4034761",
   "metadata": {
    "tags": []
   },
   "outputs": [
    {
     "ename": "AttributeError",
     "evalue": "'generator' object has no attribute 'next'",
     "output_type": "error",
     "traceback": [
      "\u001b[0;31m---------------------------------------------------------------------------\u001b[0m",
      "\u001b[0;31mAttributeError\u001b[0m                            Traceback (most recent call last)",
      "Cell \u001b[0;32mIn[21], line 1\u001b[0m\n\u001b[0;32m----> 1\u001b[0m \u001b[43mtest_data_handler\u001b[49m\u001b[38;5;241;43m.\u001b[39;49m\u001b[43mupdate_bars\u001b[49m\u001b[43m(\u001b[49m\u001b[43m)\u001b[49m\n",
      "File \u001b[0;32m/notebooks/Event-driven-backtester/src/backtester/data.py:134\u001b[0m, in \u001b[0;36mHistoricCSVDataHandler.update_bars\u001b[0;34m(self)\u001b[0m\n\u001b[1;32m    132\u001b[0m \u001b[38;5;28;01mfor\u001b[39;00m s \u001b[38;5;129;01min\u001b[39;00m \u001b[38;5;28mself\u001b[39m\u001b[38;5;241m.\u001b[39msymbol_list:\n\u001b[1;32m    133\u001b[0m     \u001b[38;5;28;01mtry\u001b[39;00m:\n\u001b[0;32m--> 134\u001b[0m         bar \u001b[38;5;241m=\u001b[39m \u001b[38;5;28;43mself\u001b[39;49m\u001b[38;5;241;43m.\u001b[39;49m\u001b[43m_get_new_bar\u001b[49m\u001b[43m(\u001b[49m\u001b[43ms\u001b[49m\u001b[43m)\u001b[49m\u001b[38;5;241;43m.\u001b[39;49m\u001b[43mnext\u001b[49m()\n\u001b[1;32m    135\u001b[0m     \u001b[38;5;28;01mexcept\u001b[39;00m \u001b[38;5;167;01mStopIteration\u001b[39;00m:\n\u001b[1;32m    136\u001b[0m         \u001b[38;5;28mself\u001b[39m\u001b[38;5;241m.\u001b[39mcontinue_backtest \u001b[38;5;241m=\u001b[39m \u001b[38;5;28;01mFalse\u001b[39;00m\n",
      "\u001b[0;31mAttributeError\u001b[0m: 'generator' object has no attribute 'next'"
     ]
    }
   ],
   "source": [
    "test_data_handler.update_bars()"
   ]
  },
  {
   "cell_type": "code",
   "execution_count": null,
   "id": "42b60cd9-074f-462d-8e06-d678c3f4134e",
   "metadata": {},
   "outputs": [],
   "source": []
  }
 ],
 "metadata": {
  "kernelspec": {
   "display_name": "Python 3.9",
   "language": "python",
   "name": "py39"
  },
  "language_info": {
   "codemirror_mode": {
    "name": "ipython",
    "version": 3
   },
   "file_extension": ".py",
   "mimetype": "text/x-python",
   "name": "python",
   "nbconvert_exporter": "python",
   "pygments_lexer": "ipython3",
   "version": "3.9.18"
  }
 },
 "nbformat": 4,
 "nbformat_minor": 5
}
